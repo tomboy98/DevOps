{
 "cells": [
  {
   "cell_type": "markdown",
   "id": "82d30ad0",
   "metadata": {},
   "source": [
    "# Python day-2"
   ]
  },
  {
   "cell_type": "raw",
   "id": "800c11b2",
   "metadata": {},
   "source": [
    "Mutable datatypes:\n",
    "    List\n",
    "    Set\n",
    "    Dictionary"
   ]
  },
  {
   "cell_type": "markdown",
   "id": "68efa685",
   "metadata": {},
   "source": [
    "# List"
   ]
  },
  {
   "cell_type": "raw",
   "id": "756d3d1e",
   "metadata": {},
   "source": [
    "set of heterogenous elements\n",
    "syntax:varname=[elements]"
   ]
  },
  {
   "cell_type": "code",
   "execution_count": 1,
   "id": "20f0784a",
   "metadata": {},
   "outputs": [
    {
     "data": {
      "text/plain": [
       "[1, 2, 3, 'name', True, 'python', 14.3]"
      ]
     },
     "execution_count": 1,
     "metadata": {},
     "output_type": "execute_result"
    }
   ],
   "source": [
    "l1=[1,2,3,'name',True,'python',14.3]\n",
    "l1"
   ]
  },
  {
   "cell_type": "code",
   "execution_count": 2,
   "id": "aed5640a",
   "metadata": {},
   "outputs": [
    {
     "data": {
      "text/plain": [
       "list"
      ]
     },
     "execution_count": 2,
     "metadata": {},
     "output_type": "execute_result"
    }
   ],
   "source": [
    "type(l1)"
   ]
  },
  {
   "cell_type": "code",
   "execution_count": 3,
   "id": "54577476",
   "metadata": {},
   "outputs": [
    {
     "data": {
      "text/plain": [
       "7"
      ]
     },
     "execution_count": 3,
     "metadata": {},
     "output_type": "execute_result"
    }
   ],
   "source": [
    "len(l1)"
   ]
  },
  {
   "cell_type": "code",
   "execution_count": 4,
   "id": "70b39bac",
   "metadata": {},
   "outputs": [
    {
     "data": {
      "text/plain": [
       "'name'"
      ]
     },
     "execution_count": 4,
     "metadata": {},
     "output_type": "execute_result"
    }
   ],
   "source": [
    "l1[3]"
   ]
  },
  {
   "cell_type": "code",
   "execution_count": 7,
   "id": "e3a8e783",
   "metadata": {},
   "outputs": [
    {
     "data": {
      "text/plain": [
       "[True, 'python', 14.3]"
      ]
     },
     "execution_count": 7,
     "metadata": {},
     "output_type": "execute_result"
    }
   ],
   "source": [
    "l1[4:]"
   ]
  },
  {
   "cell_type": "code",
   "execution_count": 14,
   "id": "f0b06e66",
   "metadata": {},
   "outputs": [],
   "source": [
    "l1[3]=\"animal\""
   ]
  },
  {
   "cell_type": "code",
   "execution_count": 15,
   "id": "dc98a347",
   "metadata": {},
   "outputs": [
    {
     "data": {
      "text/plain": [
       "[1, 2, 3, 'animal', True, 'python', 14.3]"
      ]
     },
     "execution_count": 15,
     "metadata": {},
     "output_type": "execute_result"
    }
   ],
   "source": [
    "l1"
   ]
  },
  {
   "cell_type": "code",
   "execution_count": 44,
   "id": "adaae80f",
   "metadata": {},
   "outputs": [
    {
     "data": {
      "text/plain": [
       "[1, 2, 3, 'name', True, 'python', 14.3]"
      ]
     },
     "execution_count": 44,
     "metadata": {},
     "output_type": "execute_result"
    }
   ],
   "source": [
    "l2=[1,2,3,'name',True,'python',14.3]\n",
    "l2"
   ]
  },
  {
   "cell_type": "code",
   "execution_count": 30,
   "id": "27f273f7",
   "metadata": {},
   "outputs": [],
   "source": [
    "l2[:3]='new'"
   ]
  },
  {
   "cell_type": "code",
   "execution_count": 31,
   "id": "9e550050",
   "metadata": {},
   "outputs": [
    {
     "data": {
      "text/plain": [
       "['n', 'e', 'w', 'name', True, 'python', 14.3]"
      ]
     },
     "execution_count": 31,
     "metadata": {},
     "output_type": "execute_result"
    }
   ],
   "source": [
    "l2"
   ]
  },
  {
   "cell_type": "code",
   "execution_count": 37,
   "id": "f829ddda",
   "metadata": {},
   "outputs": [],
   "source": [
    "l2.reverse() #using function"
   ]
  },
  {
   "cell_type": "code",
   "execution_count": 38,
   "id": "18316b99",
   "metadata": {},
   "outputs": [
    {
     "data": {
      "text/plain": [
       "[14.3, 'python', True, 'name', 'w', 'e', 'n']"
      ]
     },
     "execution_count": 38,
     "metadata": {},
     "output_type": "execute_result"
    }
   ],
   "source": [
    "l2"
   ]
  },
  {
   "cell_type": "code",
   "execution_count": 46,
   "id": "2478a63d",
   "metadata": {},
   "outputs": [
    {
     "data": {
      "text/plain": [
       "[14.3, 'python', True, 'name', 3, 2, 1]"
      ]
     },
     "execution_count": 46,
     "metadata": {},
     "output_type": "execute_result"
    }
   ],
   "source": [
    "l2[::-1]  #reverse of elements"
   ]
  },
  {
   "cell_type": "code",
   "execution_count": 41,
   "id": "a3d52436",
   "metadata": {},
   "outputs": [
    {
     "data": {
      "text/plain": [
       "[14.3, 'python', True]"
      ]
     },
     "execution_count": 41,
     "metadata": {},
     "output_type": "execute_result"
    }
   ],
   "source": [
    "l2[:3]"
   ]
  },
  {
   "cell_type": "raw",
   "id": "0b417e37",
   "metadata": {},
   "source": [
    "varname[start:stop+1:step]\n",
    "\n",
    "start------where to start(start index)\n",
    "stop-----where to stop(stop index)\n",
    "step----optional,interval between 2 elements(skip interval)"
   ]
  },
  {
   "cell_type": "code",
   "execution_count": 48,
   "id": "9a1a0cb3",
   "metadata": {},
   "outputs": [
    {
     "data": {
      "text/plain": [
       "[1, 2, 3, 'name', True, 'python', 14.3]"
      ]
     },
     "execution_count": 48,
     "metadata": {},
     "output_type": "execute_result"
    }
   ],
   "source": [
    "l2"
   ]
  },
  {
   "cell_type": "code",
   "execution_count": 55,
   "id": "a97b951e",
   "metadata": {},
   "outputs": [
    {
     "data": {
      "text/plain": [
       "[1, 2, 3, 'name', True]"
      ]
     },
     "execution_count": 55,
     "metadata": {},
     "output_type": "execute_result"
    }
   ],
   "source": [
    "l2[:5:1]"
   ]
  },
  {
   "cell_type": "code",
   "execution_count": 58,
   "id": "9a9db0b3",
   "metadata": {},
   "outputs": [
    {
     "data": {
      "text/plain": [
       "[1, 3, True]"
      ]
     },
     "execution_count": 58,
     "metadata": {},
     "output_type": "execute_result"
    }
   ],
   "source": [
    "l2[:5:2]"
   ]
  },
  {
   "cell_type": "raw",
   "id": "f2171933",
   "metadata": {},
   "source": [
    "To add elements into list:\n",
    "    \n",
    "append()----adds the elements to the end of the list\n",
    "insert()----adds the data to the particular location"
   ]
  },
  {
   "cell_type": "code",
   "execution_count": 59,
   "id": "c9a40e41",
   "metadata": {},
   "outputs": [
    {
     "data": {
      "text/plain": [
       "[1, 2, 3, 'animal', True, 'python', 14.3]"
      ]
     },
     "execution_count": 59,
     "metadata": {},
     "output_type": "execute_result"
    }
   ],
   "source": [
    "l1"
   ]
  },
  {
   "cell_type": "code",
   "execution_count": 60,
   "id": "698b7a4e",
   "metadata": {},
   "outputs": [],
   "source": [
    "l1.append('rajeev')"
   ]
  },
  {
   "cell_type": "code",
   "execution_count": 61,
   "id": "4e2f6f65",
   "metadata": {},
   "outputs": [
    {
     "data": {
      "text/plain": [
       "[1, 2, 3, 'animal', True, 'python', 14.3, 'rajeev']"
      ]
     },
     "execution_count": 61,
     "metadata": {},
     "output_type": "execute_result"
    }
   ],
   "source": [
    "l1"
   ]
  },
  {
   "cell_type": "code",
   "execution_count": 62,
   "id": "86eaf437",
   "metadata": {},
   "outputs": [],
   "source": [
    "l1.insert(4,'AWS')"
   ]
  },
  {
   "cell_type": "code",
   "execution_count": 63,
   "id": "d2438747",
   "metadata": {},
   "outputs": [
    {
     "data": {
      "text/plain": [
       "[1, 2, 3, 'animal', 'AWS', True, 'python', 14.3, 'rajeev']"
      ]
     },
     "execution_count": 63,
     "metadata": {},
     "output_type": "execute_result"
    }
   ],
   "source": [
    "l1"
   ]
  },
  {
   "cell_type": "code",
   "execution_count": 64,
   "id": "945a2c01",
   "metadata": {},
   "outputs": [
    {
     "data": {
      "text/plain": [
       "'AWS'"
      ]
     },
     "execution_count": 64,
     "metadata": {},
     "output_type": "execute_result"
    }
   ],
   "source": [
    "l1.pop(4) #supports only with index"
   ]
  },
  {
   "cell_type": "code",
   "execution_count": 65,
   "id": "9efc8ad2",
   "metadata": {},
   "outputs": [
    {
     "data": {
      "text/plain": [
       "[1, 2, 3, 'animal', True, 'python', 14.3, 'rajeev']"
      ]
     },
     "execution_count": 65,
     "metadata": {},
     "output_type": "execute_result"
    }
   ],
   "source": [
    "l1"
   ]
  },
  {
   "cell_type": "code",
   "execution_count": 66,
   "id": "a237a438",
   "metadata": {},
   "outputs": [],
   "source": [
    "l1.remove('animal') #supports for elements"
   ]
  },
  {
   "cell_type": "code",
   "execution_count": 67,
   "id": "0a96ea4b",
   "metadata": {},
   "outputs": [
    {
     "data": {
      "text/plain": [
       "[1, 2, 3, True, 'python', 14.3, 'rajeev']"
      ]
     },
     "execution_count": 67,
     "metadata": {},
     "output_type": "execute_result"
    }
   ],
   "source": [
    "l1"
   ]
  },
  {
   "cell_type": "markdown",
   "id": "46e798c8",
   "metadata": {},
   "source": [
    "# Dictionary"
   ]
  },
  {
   "cell_type": "raw",
   "id": "ef4cc3f6",
   "metadata": {},
   "source": [
    "it stores the data in key and value pairs\n",
    "syntax:varname={key1:value1,key2:value2....,keyn:valuen}----no order is maintained\n"
   ]
  },
  {
   "cell_type": "code",
   "execution_count": 4,
   "id": "8253aac7",
   "metadata": {},
   "outputs": [],
   "source": [
    "h1={1:'arjun','poorva':'AWS',13.450:False}"
   ]
  },
  {
   "cell_type": "code",
   "execution_count": 5,
   "id": "59dfd313",
   "metadata": {},
   "outputs": [
    {
     "data": {
      "text/plain": [
       "{1: 'arjun', 'poorva': 'AWS', 13.45: False}"
      ]
     },
     "execution_count": 5,
     "metadata": {},
     "output_type": "execute_result"
    }
   ],
   "source": [
    "h1"
   ]
  },
  {
   "cell_type": "code",
   "execution_count": 6,
   "id": "c55893f2",
   "metadata": {},
   "outputs": [
    {
     "data": {
      "text/plain": [
       "dict"
      ]
     },
     "execution_count": 6,
     "metadata": {},
     "output_type": "execute_result"
    }
   ],
   "source": [
    "type(h1)"
   ]
  },
  {
   "cell_type": "code",
   "execution_count": 7,
   "id": "49da4bb1",
   "metadata": {},
   "outputs": [
    {
     "data": {
      "text/plain": [
       "False"
      ]
     },
     "execution_count": 7,
     "metadata": {},
     "output_type": "execute_result"
    }
   ],
   "source": [
    "h1[13.450]"
   ]
  },
  {
   "cell_type": "code",
   "execution_count": 8,
   "id": "461486d5",
   "metadata": {},
   "outputs": [],
   "source": [
    "h1[13.450]='property'"
   ]
  },
  {
   "cell_type": "code",
   "execution_count": 9,
   "id": "ed454d77",
   "metadata": {},
   "outputs": [
    {
     "data": {
      "text/plain": [
       "{1: 'arjun', 'poorva': 'AWS', 13.45: 'property'}"
      ]
     },
     "execution_count": 9,
     "metadata": {},
     "output_type": "execute_result"
    }
   ],
   "source": [
    "h1"
   ]
  },
  {
   "cell_type": "code",
   "execution_count": 10,
   "id": "81ea02d8",
   "metadata": {},
   "outputs": [
    {
     "data": {
      "text/plain": [
       "dict_keys([1, 'poorva', 13.45])"
      ]
     },
     "execution_count": 10,
     "metadata": {},
     "output_type": "execute_result"
    }
   ],
   "source": [
    "h1.keys()"
   ]
  },
  {
   "cell_type": "code",
   "execution_count": 11,
   "id": "a37167c6",
   "metadata": {},
   "outputs": [
    {
     "data": {
      "text/plain": [
       "dict_values(['arjun', 'AWS', 'property'])"
      ]
     },
     "execution_count": 11,
     "metadata": {},
     "output_type": "execute_result"
    }
   ],
   "source": [
    "h1.values()"
   ]
  },
  {
   "cell_type": "code",
   "execution_count": 12,
   "id": "4110aad9",
   "metadata": {},
   "outputs": [
    {
     "data": {
      "text/plain": [
       "dict_items([(1, 'arjun'), ('poorva', 'AWS'), (13.45, 'property')])"
      ]
     },
     "execution_count": 12,
     "metadata": {},
     "output_type": "execute_result"
    }
   ],
   "source": [
    "h1.items()"
   ]
  },
  {
   "cell_type": "code",
   "execution_count": 13,
   "id": "7cc2a5ee",
   "metadata": {},
   "outputs": [
    {
     "data": {
      "text/plain": [
       "3"
      ]
     },
     "execution_count": 13,
     "metadata": {},
     "output_type": "execute_result"
    }
   ],
   "source": [
    "len(h1)"
   ]
  },
  {
   "cell_type": "code",
   "execution_count": 27,
   "id": "cf13c4b4",
   "metadata": {},
   "outputs": [
    {
     "data": {
      "text/plain": [
       "{1: 'arjun', 'poorva': 23, 13.45: False}"
      ]
     },
     "execution_count": 27,
     "metadata": {},
     "output_type": "execute_result"
    }
   ],
   "source": [
    "h2={1:'arjun','poorva':'AWS',13.450:False,'poorva':23}\n",
    "h2"
   ]
  },
  {
   "cell_type": "code",
   "execution_count": 28,
   "id": "721b37fe",
   "metadata": {},
   "outputs": [
    {
     "data": {
      "text/plain": [
       "{1: 'arjun', 'poorva': 'AWS', 13.45: False, 34: 'AWS'}"
      ]
     },
     "execution_count": 28,
     "metadata": {},
     "output_type": "execute_result"
    }
   ],
   "source": [
    "h2={1:'arjun','poorva':'AWS',13.450:False,34:'AWS'}\n",
    "h2"
   ]
  },
  {
   "cell_type": "code",
   "execution_count": 29,
   "id": "77f5765b",
   "metadata": {},
   "outputs": [
    {
     "data": {
      "text/plain": [
       "{1: 'arjun', 'poorva': 'AWS', 13.45: False, 34: 'AWS'}"
      ]
     },
     "execution_count": 29,
     "metadata": {},
     "output_type": "execute_result"
    }
   ],
   "source": [
    "h2"
   ]
  },
  {
   "cell_type": "code",
   "execution_count": 30,
   "id": "afcbc1ed",
   "metadata": {},
   "outputs": [
    {
     "data": {
      "text/plain": [
       "'arjun'"
      ]
     },
     "execution_count": 30,
     "metadata": {},
     "output_type": "execute_result"
    }
   ],
   "source": [
    "h2.pop(1)"
   ]
  },
  {
   "cell_type": "code",
   "execution_count": 31,
   "id": "960413e0",
   "metadata": {},
   "outputs": [
    {
     "data": {
      "text/plain": [
       "{'poorva': 'AWS', 13.45: False, 34: 'AWS'}"
      ]
     },
     "execution_count": 31,
     "metadata": {},
     "output_type": "execute_result"
    }
   ],
   "source": [
    "h2"
   ]
  },
  {
   "cell_type": "code",
   "execution_count": 32,
   "id": "99b6ae22",
   "metadata": {},
   "outputs": [],
   "source": [
    "del h2[13.45]"
   ]
  },
  {
   "cell_type": "code",
   "execution_count": 33,
   "id": "e937c146",
   "metadata": {},
   "outputs": [
    {
     "data": {
      "text/plain": [
       "{'poorva': 'AWS', 34: 'AWS'}"
      ]
     },
     "execution_count": 33,
     "metadata": {},
     "output_type": "execute_result"
    }
   ],
   "source": [
    "h2"
   ]
  },
  {
   "cell_type": "markdown",
   "id": "99483ccd",
   "metadata": {},
   "source": [
    "# Set"
   ]
  },
  {
   "cell_type": "raw",
   "id": "9146af43",
   "metadata": {},
   "source": [
    "unordered,unindexed list of unique elements\n",
    "syntax:varname={elements}"
   ]
  },
  {
   "cell_type": "code",
   "execution_count": 37,
   "id": "dcc49f40",
   "metadata": {},
   "outputs": [],
   "source": [
    "s1={1, 2, 3, 'animal', True, 'python', 14.3, 'rajeev'}"
   ]
  },
  {
   "cell_type": "code",
   "execution_count": 38,
   "id": "4e27ea41",
   "metadata": {},
   "outputs": [
    {
     "data": {
      "text/plain": [
       "{1, 14.3, 2, 3, 'animal', 'python', 'rajeev'}"
      ]
     },
     "execution_count": 38,
     "metadata": {},
     "output_type": "execute_result"
    }
   ],
   "source": [
    "s1\n"
   ]
  },
  {
   "cell_type": "code",
   "execution_count": 36,
   "id": "43e465db",
   "metadata": {},
   "outputs": [
    {
     "data": {
      "text/plain": [
       "set"
      ]
     },
     "execution_count": 36,
     "metadata": {},
     "output_type": "execute_result"
    }
   ],
   "source": [
    "type(s1)"
   ]
  },
  {
   "cell_type": "code",
   "execution_count": 41,
   "id": "db416245",
   "metadata": {},
   "outputs": [],
   "source": [
    "s1.add('xyz')"
   ]
  },
  {
   "cell_type": "code",
   "execution_count": 42,
   "id": "b2ec7415",
   "metadata": {},
   "outputs": [
    {
     "data": {
      "text/plain": [
       "{1, 14.3, 2, 3, 'animal', 'python', 'rajeev', 'xyz'}"
      ]
     },
     "execution_count": 42,
     "metadata": {},
     "output_type": "execute_result"
    }
   ],
   "source": [
    "s1"
   ]
  },
  {
   "cell_type": "code",
   "execution_count": 43,
   "id": "f280a017",
   "metadata": {},
   "outputs": [
    {
     "ename": "AttributeError",
     "evalue": "'set' object has no attribute 'append'",
     "output_type": "error",
     "traceback": [
      "\u001b[1;31m---------------------------------------------------------------------------\u001b[0m",
      "\u001b[1;31mAttributeError\u001b[0m                            Traceback (most recent call last)",
      "Cell \u001b[1;32mIn[43], line 1\u001b[0m\n\u001b[1;32m----> 1\u001b[0m \u001b[43ms1\u001b[49m\u001b[38;5;241;43m.\u001b[39;49m\u001b[43mappend\u001b[49m(\u001b[38;5;124m'\u001b[39m\u001b[38;5;124mqwerty\u001b[39m\u001b[38;5;124m'\u001b[39m)\n",
      "\u001b[1;31mAttributeError\u001b[0m: 'set' object has no attribute 'append'"
     ]
    }
   ],
   "source": [
    "s1.append('qwerty')"
   ]
  },
  {
   "cell_type": "code",
   "execution_count": 44,
   "id": "29991938",
   "metadata": {},
   "outputs": [
    {
     "data": {
      "text/plain": [
       "{1, 14.3, 2, 3, 'animal', 'python', 'rajeev', 'x', 'xyz'}"
      ]
     },
     "execution_count": 44,
     "metadata": {},
     "output_type": "execute_result"
    }
   ],
   "source": [
    "s1.add('x')\n",
    "s1"
   ]
  },
  {
   "cell_type": "code",
   "execution_count": 45,
   "id": "6d76762f",
   "metadata": {},
   "outputs": [
    {
     "data": {
      "text/plain": [
       "{1, 14.3, 2, 3, 'animal', 'python', 'rajeev', 'x', 'xyz', 'y'}"
      ]
     },
     "execution_count": 45,
     "metadata": {},
     "output_type": "execute_result"
    }
   ],
   "source": [
    "s1.add('y')\n",
    "s1"
   ]
  },
  {
   "cell_type": "markdown",
   "id": "debe6d80",
   "metadata": {},
   "source": [
    "# Conditional statements"
   ]
  },
  {
   "cell_type": "raw",
   "id": "cb0260d2",
   "metadata": {},
   "source": [
    "statements executed based on the condition\n",
    "statements that are used to evaluate a condition to true or false\n",
    "types: simple if---> if else -----> if elif else--->nested if else"
   ]
  },
  {
   "cell_type": "code",
   "execution_count": null,
   "id": "5635d93c",
   "metadata": {},
   "outputs": [],
   "source": [
    "1.  #simple if:\n",
    "syntax:if(condition):\n",
    "        #statements\n",
    "        \n",
    "        "
   ]
  },
  {
   "cell_type": "code",
   "execution_count": 48,
   "id": "fa8a8c06",
   "metadata": {},
   "outputs": [
    {
     "name": "stdout",
     "output_type": "stream",
     "text": [
      "a is greater\n"
     ]
    }
   ],
   "source": [
    "a=9\n",
    "b=3\n",
    "if(a>b):\n",
    "    print('a is greater')"
   ]
  },
  {
   "cell_type": "code",
   "execution_count": null,
   "id": "4d609b5b",
   "metadata": {},
   "outputs": [],
   "source": [
    "# if else"
   ]
  },
  {
   "cell_type": "code",
   "execution_count": 50,
   "id": "e23d1b7f",
   "metadata": {},
   "outputs": [
    {
     "name": "stdout",
     "output_type": "stream",
     "text": [
      "b is greater\n"
     ]
    }
   ],
   "source": [
    "a=9\n",
    "b=10\n",
    "if(a>b):\n",
    "    print('a is greater')\n",
    "else:\n",
    "    print('b is greater')"
   ]
  },
  {
   "cell_type": "code",
   "execution_count": 51,
   "id": "600dc4cb",
   "metadata": {},
   "outputs": [
    {
     "name": "stdout",
     "output_type": "stream",
     "text": [
      "odd\n"
     ]
    }
   ],
   "source": [
    "a=13\n",
    "b=4\n",
    "if(a%b)==0:\n",
    "    print(\"even\")\n",
    "else:\n",
    "    print(\"odd\")"
   ]
  },
  {
   "cell_type": "code",
   "execution_count": 58,
   "id": "f9522947",
   "metadata": {},
   "outputs": [
    {
     "name": "stdout",
     "output_type": "stream",
     "text": [
      "enter n1  3\n",
      "enter n2 3\n",
      "both are equal\n"
     ]
    }
   ],
   "source": [
    "#if elif else\n",
    "n1=int(input('enter n1  '))\n",
    "n2=int(input('enter n2 '))\n",
    "if(n1>n2):\n",
    "    print(n1,' is greater')\n",
    "elif(n1<n2):\n",
    "    print(n2,' is greater')\n",
    "elif(n1==n2):\n",
    "    print('both are equal')\n",
    "else:\n",
    "    print('invalid')"
   ]
  },
  {
   "cell_type": "raw",
   "id": "e951053b",
   "metadata": {},
   "source": [
    "= ----- assigning data to a particular variable\n",
    "== ---- comparing two data"
   ]
  },
  {
   "cell_type": "raw",
   "id": "9f6318ff",
   "metadata": {},
   "source": [
    "#nested if else---->a condition within another condition\n",
    "syntax: if(condition1):\n",
    "            if(condition2):\n",
    "                task1\n",
    "            elif(condition3):\n",
    "                task2\n",
    "            else:\n",
    "                task3\n",
    "        else:\n",
    "            task4\n",
    "        "
   ]
  },
  {
   "cell_type": "code",
   "execution_count": 65,
   "id": "cf94674f",
   "metadata": {},
   "outputs": [
    {
     "name": "stdout",
     "output_type": "stream",
     "text": [
      "enter a number   -2\n",
      "negative\n"
     ]
    }
   ],
   "source": [
    "#example:\n",
    "\n",
    "num=int(input('enter a number   '))\n",
    "if(num>=0):\n",
    "    if(num==0):\n",
    "        print(\"zero\")\n",
    "    else:\n",
    "        print(\"positive\")\n",
    "else:\n",
    "    print(\"negative\")"
   ]
  },
  {
   "cell_type": "markdown",
   "id": "388cffdf",
   "metadata": {},
   "source": [
    "# Looping statements"
   ]
  },
  {
   "cell_type": "code",
   "execution_count": null,
   "id": "5f30029d",
   "metadata": {},
   "outputs": [],
   "source": [
    "statements that will allow to perform the same set of task multiple number \n",
    "of times based on a condition\n",
    "for loop----->to work with range type data\n",
    "while loop----> to work with conditional data"
   ]
  },
  {
   "cell_type": "code",
   "execution_count": null,
   "id": "86434936",
   "metadata": {},
   "outputs": [],
   "source": [
    "for loop --------->it is going to iterate over a sequence\n",
    "synatx: for var in sequence\n",
    "         body of loop"
   ]
  },
  {
   "cell_type": "code",
   "execution_count": 66,
   "id": "15e15e3d",
   "metadata": {},
   "outputs": [
    {
     "data": {
      "text/plain": [
       "range(0, 11)"
      ]
     },
     "execution_count": 66,
     "metadata": {},
     "output_type": "execute_result"
    }
   ],
   "source": [
    "range(0,11) #0,1,2,3,4,5,6,7,8,9,10"
   ]
  },
  {
   "cell_type": "code",
   "execution_count": 76,
   "id": "fbebcea2",
   "metadata": {},
   "outputs": [
    {
     "name": "stdout",
     "output_type": "stream",
     "text": [
      "Apple 0\n",
      "Apple 1\n",
      "Apple 2\n",
      "Apple 3\n",
      "Apple 4\n"
     ]
    }
   ],
   "source": [
    "for i in range(5): #0,1,2,3,4\n",
    "    print(\"Apple\",i)\n",
    "    "
   ]
  },
  {
   "cell_type": "code",
   "execution_count": 77,
   "id": "dd3e0c06",
   "metadata": {},
   "outputs": [
    {
     "name": "stdout",
     "output_type": "stream",
     "text": [
      "for loop 1\n",
      "for loop 14.3\n",
      "for loop 2\n",
      "for loop 3\n",
      "for loop animal\n",
      "for loop python\n",
      "for loop rajeev\n"
     ]
    }
   ],
   "source": [
    "l=[1, 14.3, 2, 3, 'animal', 'python', 'rajeev']\n",
    "for index in l:\n",
    "    print('for loop',index)"
   ]
  },
  {
   "cell_type": "code",
   "execution_count": 78,
   "id": "89de293b",
   "metadata": {},
   "outputs": [
    {
     "name": "stdout",
     "output_type": "stream",
     "text": [
      "a\n",
      "b\n",
      "c\n"
     ]
    }
   ],
   "source": [
    "alpha=['a','b','c']\n",
    "for p in alpha:\n",
    "    print(p)"
   ]
  },
  {
   "cell_type": "raw",
   "id": "0ff8b236",
   "metadata": {},
   "source": [
    "#we use Range function which returns a sequence of integers \n",
    "range(start:stop:step)\n",
    "start----by default to 0,user have to give start index\n",
    "stop-----required user have to provide the end(index+1)\n",
    "step-------optional(skipping/increment)"
   ]
  },
  {
   "cell_type": "code",
   "execution_count": null,
   "id": "4cd7cf91",
   "metadata": {},
   "outputs": [],
   "source": [
    "while loop-----------\n"
   ]
  },
  {
   "cell_type": "code",
   "execution_count": 80,
   "id": "3b5f7a5f",
   "metadata": {},
   "outputs": [
    {
     "name": "stdout",
     "output_type": "stream",
     "text": [
      "python 0\n",
      "python 1\n",
      "python 2\n",
      "python 3\n",
      "python 4\n"
     ]
    }
   ],
   "source": [
    "i=0\n",
    "while(i<5):\n",
    "    print('python',i)\n",
    "    i=i+1  #this is a sequence increment"
   ]
  },
  {
   "cell_type": "code",
   "execution_count": 81,
   "id": "2eba7ac3",
   "metadata": {},
   "outputs": [
    {
     "name": "stdout",
     "output_type": "stream",
     "text": [
      "10\n",
      "20\n",
      "30\n",
      "40\n",
      "50\n",
      "60\n"
     ]
    }
   ],
   "source": [
    "l=[10,20,30,40,50,60]\n",
    "len(l)\n",
    "for i in l:\n",
    "    print(i)"
   ]
  },
  {
   "cell_type": "code",
   "execution_count": 83,
   "id": "08c8c387",
   "metadata": {},
   "outputs": [
    {
     "name": "stdout",
     "output_type": "stream",
     "text": [
      "number 10\n",
      "number 20\n",
      "number 30\n",
      "number 40\n",
      "number 50\n",
      "number 60\n"
     ]
    }
   ],
   "source": [
    "l=[10,20,30,40,50,60]\n",
    "i=0\n",
    "while i<len(l):\n",
    "    print('number',l[i])\n",
    "    i=i+1 # or "
   ]
  },
  {
   "cell_type": "code",
   "execution_count": 85,
   "id": "60debb33",
   "metadata": {},
   "outputs": [
    {
     "name": "stdout",
     "output_type": "stream",
     "text": [
      "3\n",
      "data =  play\n",
      "data =  watch\n",
      "data =  travel\n"
     ]
    }
   ],
   "source": [
    "l=['play','watch','travel']\n",
    "print(len(l))\n",
    "for i in l:\n",
    "    print('data = ',i)"
   ]
  },
  {
   "cell_type": "markdown",
   "id": "bdf7edcc",
   "metadata": {},
   "source": [
    "# Functions"
   ]
  },
  {
   "cell_type": "raw",
   "id": "f5e859ac",
   "metadata": {},
   "source": [
    "block of code designed to perform a specific task.\n",
    "Inbuilt fuctions\n",
    "user-defined functions\n",
    "Lambda function"
   ]
  },
  {
   "cell_type": "raw",
   "id": "4433f4ca",
   "metadata": {},
   "source": [
    "#user defined functions --------- to create or define own set of task\n",
    "syntax: def function/create a function:\n",
    "           #task\n",
    "            \n",
    "to call/invoke function\n",
    "function_name(values for arguments)"
   ]
  },
  {
   "cell_type": "code",
   "execution_count": 86,
   "id": "781c1578",
   "metadata": {},
   "outputs": [],
   "source": [
    "def fun1(num): \n",
    "    if(num%2==0):\n",
    "        print(\"even\")\n",
    "    else:\n",
    "        print(\"odd\")"
   ]
  },
  {
   "cell_type": "code",
   "execution_count": 88,
   "id": "dc18c580",
   "metadata": {},
   "outputs": [
    {
     "name": "stdout",
     "output_type": "stream",
     "text": [
      "odd\n"
     ]
    }
   ],
   "source": [
    "fun1(13)"
   ]
  },
  {
   "cell_type": "code",
   "execution_count": 90,
   "id": "a094556d",
   "metadata": {},
   "outputs": [
    {
     "name": "stdout",
     "output_type": "stream",
     "text": [
      "enter a string   smita\n",
      "yesss...!!!\n"
     ]
    }
   ],
   "source": [
    "def checkstr(str1):\n",
    "    if 's' in str1:\n",
    "        print('yesss...!!!')\n",
    "    else:\n",
    "        print(\"no s\")\n",
    "checkstr(str1=str(input('enter a string   ')))"
   ]
  },
  {
   "cell_type": "code",
   "execution_count": 91,
   "id": "d76468f0",
   "metadata": {},
   "outputs": [
    {
     "name": "stdout",
     "output_type": "stream",
     "text": [
      "n1 4\n",
      "n2 5\n"
     ]
    }
   ],
   "source": [
    "a=int(input(\"n1 \"))\n",
    "b=int(input(\"n2 \"))"
   ]
  },
  {
   "cell_type": "code",
   "execution_count": 95,
   "id": "d83bf9e0",
   "metadata": {},
   "outputs": [],
   "source": [
    "def poorva(a,b):\n",
    "    print(a+b)\n",
    "\n",
    "def mul(a,b):\n",
    "    print(a*b)\n",
    "        "
   ]
  },
  {
   "cell_type": "code",
   "execution_count": 96,
   "id": "9be87d61",
   "metadata": {},
   "outputs": [
    {
     "name": "stdout",
     "output_type": "stream",
     "text": [
      "9\n"
     ]
    }
   ],
   "source": [
    "poorva(a,b)"
   ]
  },
  {
   "cell_type": "code",
   "execution_count": 94,
   "id": "33b04875",
   "metadata": {},
   "outputs": [
    {
     "name": "stdout",
     "output_type": "stream",
     "text": [
      "20\n"
     ]
    }
   ],
   "source": [
    "mul(a,b)"
   ]
  },
  {
   "cell_type": "markdown",
   "id": "af56086f",
   "metadata": {},
   "source": [
    "# inbuilt funtions-----len(),range(),pop(),insert(),append()"
   ]
  },
  {
   "cell_type": "markdown",
   "id": "f720db3c",
   "metadata": {},
   "source": [
    "# Lambda functions"
   ]
  },
  {
   "cell_type": "raw",
   "id": "0027a0ea",
   "metadata": {},
   "source": [
    "nameless functions/anonymous functions\n",
    "fnunction definition is stored in a variable\n",
    "function call will be made using variable name\n",
    "only one line of expression is allowed\n",
    "keyword : lambda\n",
    "    \n",
    "    syntax:var_name=lambda arg_varaible:task"
   ]
  },
  {
   "cell_type": "code",
   "execution_count": 97,
   "id": "d5a28364",
   "metadata": {},
   "outputs": [
    {
     "data": {
      "text/plain": [
       "6"
      ]
     },
     "execution_count": 97,
     "metadata": {},
     "output_type": "execute_result"
    }
   ],
   "source": [
    "adder=lambda a,b,c:a+b+c\n",
    "adder(1,2,3)"
   ]
  },
  {
   "cell_type": "code",
   "execution_count": 98,
   "id": "9817d43e",
   "metadata": {},
   "outputs": [
    {
     "data": {
      "text/plain": [
       "1000"
      ]
     },
     "execution_count": 98,
     "metadata": {},
     "output_type": "execute_result"
    }
   ],
   "source": [
    "cube=lambda x:x**3\n",
    "cube(10)"
   ]
  },
  {
   "cell_type": "code",
   "execution_count": null,
   "id": "a0a8a43c",
   "metadata": {},
   "outputs": [],
   "source": []
  }
 ],
 "metadata": {
  "kernelspec": {
   "display_name": "Python 3 (ipykernel)",
   "language": "python",
   "name": "python3"
  },
  "language_info": {
   "codemirror_mode": {
    "name": "ipython",
    "version": 3
   },
   "file_extension": ".py",
   "mimetype": "text/x-python",
   "name": "python",
   "nbconvert_exporter": "python",
   "pygments_lexer": "ipython3",
   "version": "3.10.9"
  }
 },
 "nbformat": 4,
 "nbformat_minor": 5
}
