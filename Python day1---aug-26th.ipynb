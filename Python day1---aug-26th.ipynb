{
 "cells": [
  {
   "cell_type": "markdown",
   "id": "17c92119",
   "metadata": {},
   "source": [
    "# Python"
   ]
  },
  {
   "cell_type": "raw",
   "id": "0bafe9fc",
   "metadata": {},
   "source": [
    "Python is general purpose high level programming language which supports both OOP and POP"
   ]
  },
  {
   "cell_type": "code",
   "execution_count": 8,
   "id": "1a98fa04",
   "metadata": {},
   "outputs": [
    {
     "name": "stdout",
     "output_type": "stream",
     "text": [
      "10\n"
     ]
    }
   ],
   "source": [
    "a=10\n",
    "print(a)"
   ]
  },
  {
   "cell_type": "code",
   "execution_count": 9,
   "id": "c96d5682",
   "metadata": {},
   "outputs": [
    {
     "data": {
      "text/plain": [
       "10"
      ]
     },
     "execution_count": 9,
     "metadata": {},
     "output_type": "execute_result"
    }
   ],
   "source": [
    "a"
   ]
  },
  {
   "cell_type": "code",
   "execution_count": 10,
   "id": "41b58514",
   "metadata": {},
   "outputs": [],
   "source": [
    "A=4"
   ]
  },
  {
   "cell_type": "code",
   "execution_count": 4,
   "id": "d432c8be",
   "metadata": {},
   "outputs": [
    {
     "data": {
      "text/plain": [
       "4"
      ]
     },
     "execution_count": 4,
     "metadata": {},
     "output_type": "execute_result"
    }
   ],
   "source": [
    "A"
   ]
  },
  {
   "cell_type": "code",
   "execution_count": 5,
   "id": "c6f30c56",
   "metadata": {},
   "outputs": [
    {
     "data": {
      "text/plain": [
       "10"
      ]
     },
     "execution_count": 5,
     "metadata": {},
     "output_type": "execute_result"
    }
   ],
   "source": [
    "a"
   ]
  },
  {
   "cell_type": "raw",
   "id": "a89de5a1",
   "metadata": {},
   "source": [
    "Variables-------------a storage container which holds some data----> a memory location\n",
    "which will be assigned with some value or information\n",
    "\"=\"----assignment operator to assign values to the variables\n",
    "Literal-----the value or information that will be assigned to the variable"
   ]
  },
  {
   "cell_type": "raw",
   "id": "f197e878",
   "metadata": {},
   "source": [
    "syntax:\n",
    "    variable_name=value/information"
   ]
  },
  {
   "cell_type": "code",
   "execution_count": 17,
   "id": "be6863a0",
   "metadata": {},
   "outputs": [
    {
     "name": "stdout",
     "output_type": "stream",
     "text": [
      "20.7\n"
     ]
    }
   ],
   "source": [
    "g=20.7\n",
    "print(g)\n"
   ]
  },
  {
   "cell_type": "code",
   "execution_count": 18,
   "id": "05f3b946",
   "metadata": {},
   "outputs": [
    {
     "data": {
      "text/plain": [
       "float"
      ]
     },
     "execution_count": 18,
     "metadata": {},
     "output_type": "execute_result"
    }
   ],
   "source": [
    "type(g)"
   ]
  },
  {
   "cell_type": "code",
   "execution_count": 19,
   "id": "fc53d454",
   "metadata": {},
   "outputs": [
    {
     "data": {
      "text/plain": [
       "3"
      ]
     },
     "execution_count": 19,
     "metadata": {},
     "output_type": "execute_result"
    }
   ],
   "source": [
    "s=3\n",
    "s"
   ]
  },
  {
   "cell_type": "code",
   "execution_count": 20,
   "id": "e5990494",
   "metadata": {},
   "outputs": [
    {
     "data": {
      "text/plain": [
       "int"
      ]
     },
     "execution_count": 20,
     "metadata": {},
     "output_type": "execute_result"
    }
   ],
   "source": [
    "type(s)"
   ]
  },
  {
   "cell_type": "raw",
   "id": "3523c61c",
   "metadata": {},
   "source": [
    "java example:\n",
    "\n",
    "class sample{\n",
    "    public static void main(String args[])\n",
    "    {\n",
    "        System.out.println(\"hello java\");\n",
    "    }\n",
    "}"
   ]
  },
  {
   "cell_type": "code",
   "execution_count": 31,
   "id": "4d2a936c",
   "metadata": {},
   "outputs": [
    {
     "name": "stdout",
     "output_type": "stream",
     "text": [
      "hello python\n"
     ]
    }
   ],
   "source": [
    "#python example:\n",
    "    \n",
    "p=\"hello python\"\n",
    "print(p)\n"
   ]
  },
  {
   "cell_type": "code",
   "execution_count": 26,
   "id": "3c52ea62",
   "metadata": {},
   "outputs": [
    {
     "data": {
      "text/plain": [
       "'hello python'"
      ]
     },
     "execution_count": 26,
     "metadata": {},
     "output_type": "execute_result"
    }
   ],
   "source": [
    "p"
   ]
  },
  {
   "cell_type": "raw",
   "id": "6ca4b815",
   "metadata": {},
   "source": [
    "Rules---------1. keywords and inbuilt functions names cannot be used as variable names.\n",
    "def,print,while,for,print(),len()\n",
    "2. variable name can start with a letter or underscore(_)but never with a number\n",
    "3. no special symbols or characters except ubderscore will be allowed\n"
   ]
  },
  {
   "cell_type": "code",
   "execution_count": 33,
   "id": "10495e3b",
   "metadata": {},
   "outputs": [
    {
     "ename": "SyntaxError",
     "evalue": "invalid decimal literal (3576634803.py, line 1)",
     "output_type": "error",
     "traceback": [
      "\u001b[1;36m  Cell \u001b[1;32mIn[33], line 1\u001b[1;36m\u001b[0m\n\u001b[1;33m    9d=89\u001b[0m\n\u001b[1;37m    ^\u001b[0m\n\u001b[1;31mSyntaxError\u001b[0m\u001b[1;31m:\u001b[0m invalid decimal literal\n"
     ]
    }
   ],
   "source": [
    "9d=89"
   ]
  },
  {
   "cell_type": "code",
   "execution_count": 34,
   "id": "172a7291",
   "metadata": {},
   "outputs": [
    {
     "ename": "SyntaxError",
     "evalue": "invalid syntax (690505271.py, line 1)",
     "output_type": "error",
     "traceback": [
      "\u001b[1;36m  Cell \u001b[1;32mIn[34], line 1\u001b[1;36m\u001b[0m\n\u001b[1;33m    &h=90\u001b[0m\n\u001b[1;37m    ^\u001b[0m\n\u001b[1;31mSyntaxError\u001b[0m\u001b[1;31m:\u001b[0m invalid syntax\n"
     ]
    }
   ],
   "source": [
    "&h=90"
   ]
  },
  {
   "cell_type": "code",
   "execution_count": 35,
   "id": "2c58f606",
   "metadata": {},
   "outputs": [],
   "source": [
    "_h=90"
   ]
  },
  {
   "cell_type": "code",
   "execution_count": 36,
   "id": "47993db7",
   "metadata": {},
   "outputs": [
    {
     "data": {
      "text/plain": [
       "90"
      ]
     },
     "execution_count": 36,
     "metadata": {},
     "output_type": "execute_result"
    }
   ],
   "source": [
    "_h"
   ]
  },
  {
   "cell_type": "raw",
   "id": "dc9027a2",
   "metadata": {},
   "source": [
    "Assigning values to the variables:\n",
    "    \n",
    "static way----information or value is assigned manually while typing the program\n",
    "\n",
    "dynamic way(user defined)----information or value is assigned during the run time of a program\n",
    "input()---an inbuilt function that fetches input from the user\n",
    "syntax:varname=input()"
   ]
  },
  {
   "cell_type": "code",
   "execution_count": 37,
   "id": "4c34d287",
   "metadata": {},
   "outputs": [],
   "source": [
    "w2=45"
   ]
  },
  {
   "cell_type": "code",
   "execution_count": 38,
   "id": "737b3e64",
   "metadata": {},
   "outputs": [
    {
     "data": {
      "text/plain": [
       "45"
      ]
     },
     "execution_count": 38,
     "metadata": {},
     "output_type": "execute_result"
    }
   ],
   "source": [
    "w2"
   ]
  },
  {
   "cell_type": "code",
   "execution_count": 44,
   "id": "8e0ca2d1",
   "metadata": {},
   "outputs": [
    {
     "name": "stdout",
     "output_type": "stream",
     "text": [
      "45\n"
     ]
    }
   ],
   "source": [
    "print(w2)"
   ]
  },
  {
   "cell_type": "code",
   "execution_count": 43,
   "id": "ac293cdc",
   "metadata": {},
   "outputs": [
    {
     "name": "stdout",
     "output_type": "stream",
     "text": [
      "enter a number3\n"
     ]
    }
   ],
   "source": [
    "v1=input(\"enter a number\")  #to fetch data from user at run time"
   ]
  },
  {
   "cell_type": "code",
   "execution_count": 46,
   "id": "1ddcf734",
   "metadata": {},
   "outputs": [],
   "source": [
    "w='poorva'"
   ]
  },
  {
   "cell_type": "code",
   "execution_count": 63,
   "id": "ff6aa2a7",
   "metadata": {},
   "outputs": [
    {
     "name": "stdout",
     "output_type": "stream",
     "text": [
      "123hadoop\n"
     ]
    }
   ],
   "source": [
    "k='123hadoop'\n",
    "print(k)"
   ]
  },
  {
   "cell_type": "code",
   "execution_count": 49,
   "id": "c1cc0d5a",
   "metadata": {},
   "outputs": [
    {
     "data": {
      "text/plain": [
       "str"
      ]
     },
     "execution_count": 49,
     "metadata": {},
     "output_type": "execute_result"
    }
   ],
   "source": [
    "type(k)"
   ]
  },
  {
   "cell_type": "code",
   "execution_count": 60,
   "id": "7210ecc1",
   "metadata": {},
   "outputs": [
    {
     "data": {
      "text/plain": [
       "23"
      ]
     },
     "execution_count": 60,
     "metadata": {},
     "output_type": "execute_result"
    }
   ],
   "source": [
    "p=23\n",
    "p"
   ]
  },
  {
   "cell_type": "code",
   "execution_count": 54,
   "id": "9c00aca5",
   "metadata": {},
   "outputs": [
    {
     "data": {
      "text/plain": [
       "str"
      ]
     },
     "execution_count": 54,
     "metadata": {},
     "output_type": "execute_result"
    }
   ],
   "source": [
    "type(p)"
   ]
  },
  {
   "cell_type": "raw",
   "id": "9f66f416",
   "metadata": {},
   "source": [
    "datatypes:\n",
    "    Basic/universal datatype----------int,float,string/char,bool\n",
    "    collective datatype--------strings,tuples,dictionary,set\n",
    "    "
   ]
  },
  {
   "cell_type": "raw",
   "id": "262a56c0",
   "metadata": {},
   "source": [
    "collective datatypes--------collection of values or information\n",
    "two types:\n",
    "    Mutable------->information or value in a collection can be altered or changed after declaration\n",
    "    -----List,Dictionary,Set\n",
    "    \n",
    "    Immutable----->information or value in a collection cannot be altered or changed after declaration\n",
    "    ------Strings , Tuples"
   ]
  },
  {
   "cell_type": "markdown",
   "id": "f43b671a",
   "metadata": {},
   "source": [
    "# Immutable Datatypes:\n",
    "    "
   ]
  },
  {
   "cell_type": "raw",
   "id": "76ae0224",
   "metadata": {},
   "source": [
    "Strings----------collection of characters\n",
    "syntax:varname='value' or \"value\""
   ]
  },
  {
   "cell_type": "code",
   "execution_count": 64,
   "id": "69c82596",
   "metadata": {},
   "outputs": [
    {
     "name": "stdout",
     "output_type": "stream",
     "text": [
      "hello guys\n"
     ]
    }
   ],
   "source": [
    "s1=\"hello\"\n",
    "s2=\"guys\"\n",
    "print(s1,s2)"
   ]
  },
  {
   "cell_type": "code",
   "execution_count": 65,
   "id": "17aeff1f",
   "metadata": {},
   "outputs": [
    {
     "data": {
      "text/plain": [
       "str"
      ]
     },
     "execution_count": 65,
     "metadata": {},
     "output_type": "execute_result"
    }
   ],
   "source": [
    "type(s1)"
   ]
  },
  {
   "cell_type": "code",
   "execution_count": 66,
   "id": "98c49af6",
   "metadata": {},
   "outputs": [
    {
     "data": {
      "text/plain": [
       "str"
      ]
     },
     "execution_count": 66,
     "metadata": {},
     "output_type": "execute_result"
    }
   ],
   "source": [
    "type(s2)"
   ]
  },
  {
   "cell_type": "code",
   "execution_count": 68,
   "id": "7a0c7007",
   "metadata": {},
   "outputs": [
    {
     "data": {
      "text/plain": [
       "5"
      ]
     },
     "execution_count": 68,
     "metadata": {},
     "output_type": "execute_result"
    }
   ],
   "source": [
    "len(s1)  #len()-----the number of elements present in a collective datatypes"
   ]
  },
  {
   "cell_type": "raw",
   "id": "84a70c3f",
   "metadata": {},
   "source": [
    "Indexing and slicing:\n",
    "index----positional value of an element inside acollection\n",
    "syntax:varname[index_value]\n",
    "types:\n",
    "    forward----starts from 0 (left to right)\n",
    "    reverse----starts from -1(right to left)\n",
    "    \n",
    "slicing----the process of extracting or accessing multiple elements in a sequence from a collection\n",
    "syntax:varname[start_index:end_index+1]"
   ]
  },
  {
   "cell_type": "code",
   "execution_count": 69,
   "id": "2fdb4349",
   "metadata": {},
   "outputs": [],
   "source": [
    "n='INTELLIPAAT'"
   ]
  },
  {
   "cell_type": "code",
   "execution_count": 70,
   "id": "2b421dc1",
   "metadata": {},
   "outputs": [
    {
     "data": {
      "text/plain": [
       "'INTELLIPAAT'"
      ]
     },
     "execution_count": 70,
     "metadata": {},
     "output_type": "execute_result"
    }
   ],
   "source": [
    "n"
   ]
  },
  {
   "cell_type": "code",
   "execution_count": 71,
   "id": "8ba3b7f6",
   "metadata": {},
   "outputs": [
    {
     "data": {
      "text/plain": [
       "11"
      ]
     },
     "execution_count": 71,
     "metadata": {},
     "output_type": "execute_result"
    }
   ],
   "source": [
    "len(n)"
   ]
  },
  {
   "cell_type": "raw",
   "id": "65b10f94",
   "metadata": {},
   "source": [
    "0   1    2  3  4  5  6  7  8  9  10    Forward indexing\n",
    "I    N   T  E  L  L  I  P  A  A  T\n",
    "-11 -10 -9 -8 -7 -6 -5 -4 -3 -2 -1     reverse indexing"
   ]
  },
  {
   "cell_type": "code",
   "execution_count": 72,
   "id": "257c5b4a",
   "metadata": {},
   "outputs": [
    {
     "data": {
      "text/plain": [
       "'E'"
      ]
     },
     "execution_count": 72,
     "metadata": {},
     "output_type": "execute_result"
    }
   ],
   "source": [
    "n[3]"
   ]
  },
  {
   "cell_type": "code",
   "execution_count": 73,
   "id": "e4384dc7",
   "metadata": {},
   "outputs": [
    {
     "data": {
      "text/plain": [
       "'P'"
      ]
     },
     "execution_count": 73,
     "metadata": {},
     "output_type": "execute_result"
    }
   ],
   "source": [
    "n[-4]"
   ]
  },
  {
   "cell_type": "code",
   "execution_count": 83,
   "id": "f0c909d1",
   "metadata": {},
   "outputs": [
    {
     "data": {
      "text/plain": [
       "'LLIPA'"
      ]
     },
     "execution_count": 83,
     "metadata": {},
     "output_type": "execute_result"
    }
   ],
   "source": [
    "n[4:9]"
   ]
  },
  {
   "cell_type": "code",
   "execution_count": 79,
   "id": "7c1d29de",
   "metadata": {},
   "outputs": [
    {
     "data": {
      "text/plain": [
       "1"
      ]
     },
     "execution_count": 79,
     "metadata": {},
     "output_type": "execute_result"
    }
   ],
   "source": [
    "n.index('N')"
   ]
  },
  {
   "cell_type": "code",
   "execution_count": 86,
   "id": "028ad146",
   "metadata": {},
   "outputs": [
    {
     "data": {
      "text/plain": [
       "'INTE'"
      ]
     },
     "execution_count": 86,
     "metadata": {},
     "output_type": "execute_result"
    }
   ],
   "source": [
    "n[-11:-7]"
   ]
  },
  {
   "cell_type": "code",
   "execution_count": 85,
   "id": "7df4bd09",
   "metadata": {},
   "outputs": [
    {
     "data": {
      "text/plain": [
       "'INTELLIPAAT'"
      ]
     },
     "execution_count": 85,
     "metadata": {},
     "output_type": "execute_result"
    }
   ],
   "source": [
    "n[:]"
   ]
  },
  {
   "cell_type": "code",
   "execution_count": 87,
   "id": "b7c00579",
   "metadata": {},
   "outputs": [
    {
     "data": {
      "text/plain": [
       "'E'"
      ]
     },
     "execution_count": 87,
     "metadata": {},
     "output_type": "execute_result"
    }
   ],
   "source": [
    "n[3]"
   ]
  },
  {
   "cell_type": "code",
   "execution_count": 88,
   "id": "8f3f6ca1",
   "metadata": {},
   "outputs": [
    {
     "ename": "TypeError",
     "evalue": "'str' object does not support item assignment",
     "output_type": "error",
     "traceback": [
      "\u001b[1;31m---------------------------------------------------------------------------\u001b[0m",
      "\u001b[1;31mTypeError\u001b[0m                                 Traceback (most recent call last)",
      "Cell \u001b[1;32mIn[88], line 1\u001b[0m\n\u001b[1;32m----> 1\u001b[0m n[\u001b[38;5;241m3\u001b[39m]\u001b[38;5;241m=\u001b[39m\u001b[38;5;124m'\u001b[39m\u001b[38;5;124mA\u001b[39m\u001b[38;5;124m'\u001b[39m\n",
      "\u001b[1;31mTypeError\u001b[0m: 'str' object does not support item assignment"
     ]
    }
   ],
   "source": [
    "n[3]='A'"
   ]
  },
  {
   "cell_type": "markdown",
   "id": "a92a84d0",
   "metadata": {},
   "source": [
    "# Tuples"
   ]
  },
  {
   "cell_type": "raw",
   "id": "339f3ca1",
   "metadata": {},
   "source": [
    "set of heterogenous elements (different data types)\n",
    "syntax: varname=(elements)\n",
    "    \n",
    "varname=elements"
   ]
  },
  {
   "cell_type": "code",
   "execution_count": 89,
   "id": "f4faf2f4",
   "metadata": {},
   "outputs": [
    {
     "data": {
      "text/plain": [
       "(1, 2, 3, 'python', 23.4, True, 'divertsity')"
      ]
     },
     "execution_count": 89,
     "metadata": {},
     "output_type": "execute_result"
    }
   ],
   "source": [
    "t1=(1,2,3,'python',23.4,True,'divertsity')\n",
    "#   0 1 2  3        4    5     6\n",
    "t1"
   ]
  },
  {
   "cell_type": "code",
   "execution_count": 90,
   "id": "6df53f52",
   "metadata": {},
   "outputs": [
    {
     "data": {
      "text/plain": [
       "tuple"
      ]
     },
     "execution_count": 90,
     "metadata": {},
     "output_type": "execute_result"
    }
   ],
   "source": [
    "type(t1)"
   ]
  },
  {
   "cell_type": "code",
   "execution_count": 91,
   "id": "a6d565e5",
   "metadata": {},
   "outputs": [
    {
     "data": {
      "text/plain": [
       "7"
      ]
     },
     "execution_count": 91,
     "metadata": {},
     "output_type": "execute_result"
    }
   ],
   "source": [
    "len(t1)"
   ]
  },
  {
   "cell_type": "code",
   "execution_count": 92,
   "id": "97776278",
   "metadata": {},
   "outputs": [
    {
     "data": {
      "text/plain": [
       "'python'"
      ]
     },
     "execution_count": 92,
     "metadata": {},
     "output_type": "execute_result"
    }
   ],
   "source": [
    "t1[3]"
   ]
  },
  {
   "cell_type": "code",
   "execution_count": 93,
   "id": "3b21c39d",
   "metadata": {},
   "outputs": [
    {
     "data": {
      "text/plain": [
       "(2, 3, 'python', 23.4, True)"
      ]
     },
     "execution_count": 93,
     "metadata": {},
     "output_type": "execute_result"
    }
   ],
   "source": [
    "t1[1:6]"
   ]
  },
  {
   "cell_type": "code",
   "execution_count": 94,
   "id": "de575e25",
   "metadata": {},
   "outputs": [
    {
     "ename": "TypeError",
     "evalue": "'tuple' object does not support item assignment",
     "output_type": "error",
     "traceback": [
      "\u001b[1;31m---------------------------------------------------------------------------\u001b[0m",
      "\u001b[1;31mTypeError\u001b[0m                                 Traceback (most recent call last)",
      "Cell \u001b[1;32mIn[94], line 1\u001b[0m\n\u001b[1;32m----> 1\u001b[0m t1[\u001b[38;5;241m4\u001b[39m]\u001b[38;5;241m=\u001b[39m\u001b[38;5;124m'\u001b[39m\u001b[38;5;124mjava\u001b[39m\u001b[38;5;124m'\u001b[39m\n",
      "\u001b[1;31mTypeError\u001b[0m: 'tuple' object does not support item assignment"
     ]
    }
   ],
   "source": [
    "t1[4]='java'"
   ]
  },
  {
   "cell_type": "code",
   "execution_count": null,
   "id": "e668da11",
   "metadata": {},
   "outputs": [],
   "source": []
  },
  {
   "cell_type": "code",
   "execution_count": null,
   "id": "e08a0c77",
   "metadata": {},
   "outputs": [],
   "source": []
  }
 ],
 "metadata": {
  "kernelspec": {
   "display_name": "Python 3 (ipykernel)",
   "language": "python",
   "name": "python3"
  },
  "language_info": {
   "codemirror_mode": {
    "name": "ipython",
    "version": 3
   },
   "file_extension": ".py",
   "mimetype": "text/x-python",
   "name": "python",
   "nbconvert_exporter": "python",
   "pygments_lexer": "ipython3",
   "version": "3.10.9"
  }
 },
 "nbformat": 4,
 "nbformat_minor": 5
}
